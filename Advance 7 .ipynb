{
 "cells": [
  {
   "cell_type": "code",
   "execution_count": null,
   "id": "b75e3506",
   "metadata": {},
   "outputs": [],
   "source": [
    "\n",
    "Q1\n",
    "try statement is used for exception handling in python. it consists of a block of risky statements which might cause an \n",
    "exception during runtime. if code within try block raises exception, then the exception will be reverted to the corresponding \n",
    "except block if multiple except blocks are present, else it willbe reverted to the default except block. In short try and \n",
    "except in union avoid programs from crashing during runtime due to exceptions.\n",
    "\n",
    "Q2\n",
    "The Different Try/Except Variations. So far we've used a try / except and even a try / except / except , but this is only \n",
    "two-thirds of the story. There are two other optional segments to a try block: else and finally . Both of these optional blocks\n",
    "will come after the try and the except .\n",
    "\n",
    "Q3\n",
    "raise statement is used to trigger an exception explicitly, if a certain condition is not as per requirement of programmer. \n",
    "raise statement helps in triggering exception as per programming logic.\n",
    "\n",
    "Q4\n",
    "There are few assertions that programmer always want to be true to avoid code failure. This type of requirement is fulfilled by\n",
    "assert statement. This statement takes a boolean condition output of which is True, Further Program Executes. if output of\n",
    "assert statement is False, it raises an Assertion Error.\n",
    "\n",
    "Q5\n",
    "with/as statement simplifies use of file handling in python. When we use a with statement for file reading, there is no need \n",
    "for programmer to explicitly takecare of activities like resource deallocation and file closing by using file.close() method. \n",
    "with statement itself ensures proper acquisition and release of resources. this avoids triggering of exceptions if file closing\n",
    "is unknowingly forgotten in the code execution.\n",
    "\n"
   ]
  }
 ],
 "metadata": {
  "kernelspec": {
   "display_name": "Python 3 (ipykernel)",
   "language": "python",
   "name": "python3"
  },
  "language_info": {
   "codemirror_mode": {
    "name": "ipython",
    "version": 3
   },
   "file_extension": ".py",
   "mimetype": "text/x-python",
   "name": "python",
   "nbconvert_exporter": "python",
   "pygments_lexer": "ipython3",
   "version": "3.9.13"
  }
 },
 "nbformat": 4,
 "nbformat_minor": 5
}
