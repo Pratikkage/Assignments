{
 "cells": [
  {
   "cell_type": "code",
   "execution_count": null,
   "id": "c9cf1246",
   "metadata": {},
   "outputs": [],
   "source": [
    "Q1\n",
    "PyInputPlus is not a part of the Python Standard Library, we must install it separately using Pip.\n",
    "\n",
    "Q2\n",
    "that you can enter a shorter name when calling the module's functions\n",
    "\n",
    "Q3\n",
    "The inputInt() function returns an integer, while the inputFloat() function returns a float value\n",
    "\n",
    "Q4\n",
    "pyip.inputInt(min = 0, max =99)\n",
    "\n",
    "Q5\n",
    "It take a list of regular expression strings to determine what the PyInputPlus function will accept or reject as valid input.\n",
    "\n",
    "Q6\n",
    "It throws RetryLimitException exception.\n",
    "\n",
    "Q7\n",
    "Blank values are not allowed\n",
    "\n"
   ]
  }
 ],
 "metadata": {
  "kernelspec": {
   "display_name": "Python 3 (ipykernel)",
   "language": "python",
   "name": "python3"
  },
  "language_info": {
   "codemirror_mode": {
    "name": "ipython",
    "version": 3
   },
   "file_extension": ".py",
   "mimetype": "text/x-python",
   "name": "python",
   "nbconvert_exporter": "python",
   "pygments_lexer": "ipython3",
   "version": "3.9.13"
  }
 },
 "nbformat": 4,
 "nbformat_minor": 5
}
