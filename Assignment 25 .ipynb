{
 "cells": [
  {
   "cell_type": "code",
   "execution_count": null,
   "id": "f98a0d0c",
   "metadata": {},
   "outputs": [],
   "source": [
    "Q1"
   ]
  },
  {
   "cell_type": "code",
   "execution_count": null,
   "id": "61598d95",
   "metadata": {},
   "outputs": [],
   "source": [
    "Enclosing a list comprehension in square brackets returns a list.but where as enclosing a list comprehension in parentheses\n",
    "returns a generator object"
   ]
  },
  {
   "cell_type": "code",
   "execution_count": null,
   "id": "0f7bdb12",
   "metadata": {},
   "outputs": [],
   "source": [
    "Q2"
   ]
  },
  {
   "cell_type": "code",
   "execution_count": null,
   "id": "3aa4dbb0",
   "metadata": {},
   "outputs": [],
   "source": [
    "Iterators are the objects that use the next() method to get the next value of the sequence. A generator is a function that produces or yields a sequence of values using a yield \n",
    "statement"
   ]
  },
  {
   "cell_type": "code",
   "execution_count": null,
   "id": "c0399587",
   "metadata": {},
   "outputs": [],
   "source": [
    "Q3"
   ]
  },
  {
   "cell_type": "code",
   "execution_count": null,
   "id": "1090a2df",
   "metadata": {},
   "outputs": [],
   "source": [
    "the presence of a yield statement.\n"
   ]
  },
  {
   "cell_type": "code",
   "execution_count": null,
   "id": "9e517443",
   "metadata": {},
   "outputs": [],
   "source": [
    "Q4"
   ]
  },
  {
   "cell_type": "code",
   "execution_count": null,
   "id": "69f70661",
   "metadata": {},
   "outputs": [],
   "source": [
    "returns a generator object to the one who calls the function which contains yield, instead of simply returning a value\n",
    "\n"
   ]
  },
  {
   "cell_type": "code",
   "execution_count": null,
   "id": "c32fb782",
   "metadata": {},
   "outputs": [],
   "source": [
    "Q5"
   ]
  },
  {
   "cell_type": "code",
   "execution_count": null,
   "id": "82779340",
   "metadata": {},
   "outputs": [],
   "source": [
    "List comprehension returns a list, whereas the map function returns an object of Iterable\n",
    "\n"
   ]
  }
 ],
 "metadata": {
  "kernelspec": {
   "display_name": "Python 3 (ipykernel)",
   "language": "python",
   "name": "python3"
  },
  "language_info": {
   "codemirror_mode": {
    "name": "ipython",
    "version": 3
   },
   "file_extension": ".py",
   "mimetype": "text/x-python",
   "name": "python",
   "nbconvert_exporter": "python",
   "pygments_lexer": "ipython3",
   "version": "3.9.13"
  }
 },
 "nbformat": 4,
 "nbformat_minor": 5
}
