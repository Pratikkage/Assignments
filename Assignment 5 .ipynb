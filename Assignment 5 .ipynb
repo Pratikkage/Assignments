{
 "cells": [
  {
   "cell_type": "code",
   "execution_count": null,
   "id": "2638260e",
   "metadata": {},
   "outputs": [],
   "source": [
    "Q1\n",
    "{}\n",
    "\n",
    "Q2\n",
    "tmp = {'foo': 42}\n",
    "\n",
    "Q3\n",
    "The elements in a list are ordered, and the elements in a dictionary aren't. Also, elements in a list must be accessed using numerical indices. Elements in a dictionary are indexed using keys, which can have different data types.\n",
    "\n",
    "Q4\n",
    "You will get a KeyError error.\n",
    "\n",
    "Q5\n",
    "There is no difference, the expression \" 'cat' in spam \" checks whether 'cat' is a key in spam.\n",
    "\n",
    "Q6\n",
    "'cat' in spam checks whether'cat' exists as a key in spam. 'cat' in spam.values() checks whether 'cat' is a value in spam.\n",
    "\n",
    "Q7\n",
    "spam.setdefault('color','black')\n",
    "\n",
    "Q8\n",
    "The module is pprint. The functions are pprint.pprint() and pprint.pformat().\n",
    "\n"
   ]
  }
 ],
 "metadata": {
  "kernelspec": {
   "display_name": "Python 3 (ipykernel)",
   "language": "python",
   "name": "python3"
  },
  "language_info": {
   "codemirror_mode": {
    "name": "ipython",
    "version": 3
   },
   "file_extension": ".py",
   "mimetype": "text/x-python",
   "name": "python",
   "nbconvert_exporter": "python",
   "pygments_lexer": "ipython3",
   "version": "3.9.13"
  }
 },
 "nbformat": 4,
 "nbformat_minor": 5
}
