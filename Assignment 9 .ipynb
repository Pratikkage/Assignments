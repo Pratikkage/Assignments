{
 "cells": [
  {
   "cell_type": "code",
   "execution_count": null,
   "id": "40982307",
   "metadata": {},
   "outputs": [],
   "source": [
    "Q1\n",
    "the location of a file relative to the current (working) directory\n",
    "\n",
    "Q2\n",
    "begins from the absolute start of your hard drive\n",
    "\n",
    "Q3\n",
    "see what your current working directory and set the current working directory to a path of your choice respectively\n",
    "\n",
    "Q4\n",
    "\".\" is the current directory.\n",
    "\n",
    "\"..\" is the parent directory.\n",
    "\n",
    "Q5\n",
    "C:\\bacon\\eggs is the dir name, while spam. txt is the base name.\n",
    "\n",
    "Q6\n",
    "The string 'r' for read mode, 'w' for write mode, and 'a' for append mode\n",
    "\n",
    "Q7\n",
    "An existing file opened in write mode is erased and completely overwritten.\n",
    "\n",
    "Q8\n",
    "The read() method returns the file's entire contents as a single string value. The readlines() method returns a list of strings, where each string is a line from the file's contents.\n",
    "\n",
    "Q9\n",
    "A shelf value resembles a dictionary value; it has keys and values, along with keys() and values() methods that work similarly to the dictionary methods of the same names."
   ]
  }
 ],
 "metadata": {
  "kernelspec": {
   "display_name": "Python 3 (ipykernel)",
   "language": "python",
   "name": "python3"
  },
  "language_info": {
   "codemirror_mode": {
    "name": "ipython",
    "version": 3
   },
   "file_extension": ".py",
   "mimetype": "text/x-python",
   "name": "python",
   "nbconvert_exporter": "python",
   "pygments_lexer": "ipython3",
   "version": "3.9.13"
  }
 },
 "nbformat": 4,
 "nbformat_minor": 5
}
