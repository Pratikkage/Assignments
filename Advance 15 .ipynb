{
 "cells": [
  {
   "cell_type": "code",
   "execution_count": null,
   "id": "a8dce55e",
   "metadata": {},
   "outputs": [],
   "source": [
    "Q1"
   ]
  },
  {
   "cell_type": "code",
   "execution_count": null,
   "id": "1ddef0bb",
   "metadata": {},
   "outputs": [],
   "source": [
    "Added Functions are\n",
    "\n",
    "Assignment expressions.\n",
    "\n",
    "Positional-only parameters.\n",
    "\n",
    "Parallel filesystem cache for compiled bytecode files.\n",
    "\n",
    "Debug build uses the same ABI as release build.\n",
    "\n",
    "f-strings support = for self-documenting expressions and debugging.\n",
    "\n",
    "PEP 578: Python Runtime Audit Hooks."
   ]
  },
  {
   "cell_type": "code",
   "execution_count": null,
   "id": "3d3459b6",
   "metadata": {},
   "outputs": [],
   "source": [
    "Q2"
   ]
  },
  {
   "cell_type": "code",
   "execution_count": null,
   "id": "43585a7e",
   "metadata": {},
   "outputs": [],
   "source": [
    "n Python, the term monkey patch refers to making dynamic (or run-time) modifications to a class or module. In Python,\n",
    "we can actually change the behavior of code at run-time.\n",
    "\n"
   ]
  },
  {
   "cell_type": "code",
   "execution_count": null,
   "id": "5f403cb8",
   "metadata": {},
   "outputs": [],
   "source": [
    "Q3"
   ]
  },
  {
   "cell_type": "code",
   "execution_count": null,
   "id": "129ac6d0",
   "metadata": {},
   "outputs": [],
   "source": [
    "The Differences between a Shallow Copy and deep copy are as follows:\n",
    "\n",
    "When an object is copied using copy(), it is called shallow copy as changes made in copied object will also make corresponding \n",
    "changes in original object, because both the objects will be referencing same address location.\n",
    "\n",
    "When an object is copied using deepcopy(), it is called deep copy as changes made in copied object will not make corresponding \n",
    "changes in original object, because both the objects will not be referencing same address location."
   ]
  },
  {
   "cell_type": "code",
   "execution_count": null,
   "id": "e4b54b79",
   "metadata": {},
   "outputs": [],
   "source": [
    "Q4"
   ]
  },
  {
   "cell_type": "code",
   "execution_count": null,
   "id": "a678afba",
   "metadata": {},
   "outputs": [],
   "source": [
    "In Python, the highest possible length of an identifier is 79 characters. Python is a high level programming language. \n",
    "It’s also a complex form and a collector of waste.\n",
    "\n",
    "Python, particularly when combined with identifiers, is case-sensitive.\n",
    "\n",
    "When writing or using identifiers in Python, it has a maximum of 79 characters.\n",
    "\n",
    "Unlikely, Python gives the identifiers unlimited length.\n",
    "\n"
   ]
  },
  {
   "cell_type": "code",
   "execution_count": null,
   "id": "ed59a10b",
   "metadata": {},
   "outputs": [],
   "source": [
    "Q5"
   ]
  },
  {
   "cell_type": "code",
   "execution_count": null,
   "id": "46bb2545",
   "metadata": {},
   "outputs": [],
   "source": [
    "A generator comprehension is a single-line specification for defining a generator in Python.\n",
    "\n",
    "It is absolutely essential to learn this syntax in order to write simple and readable code.\n",
    "\n",
    "Generator comprehension uses round bracket unlike square bracket in list comprehension.\n",
    "\n",
    "The generator yields one item at a time and generates item only when in demand. Whereas, in a list comprehension, Python \n",
    "reserves memory for the whole list. Thus we can say that the generator expressions are memory efficient than the lists.\n",
    "\n"
   ]
  }
 ],
 "metadata": {
  "kernelspec": {
   "display_name": "Python 3 (ipykernel)",
   "language": "python",
   "name": "python3"
  },
  "language_info": {
   "codemirror_mode": {
    "name": "ipython",
    "version": 3
   },
   "file_extension": ".py",
   "mimetype": "text/x-python",
   "name": "python",
   "nbconvert_exporter": "python",
   "pygments_lexer": "ipython3",
   "version": "3.9.13"
  }
 },
 "nbformat": 4,
 "nbformat_minor": 5
}
