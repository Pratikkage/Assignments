{
 "cells": [
  {
   "cell_type": "code",
   "execution_count": null,
   "id": "a59e90a9",
   "metadata": {},
   "outputs": [],
   "source": [
    "Q1"
   ]
  },
  {
   "cell_type": "code",
   "execution_count": 7,
   "id": "25e3f7c4",
   "metadata": {},
   "outputs": [
    {
     "data": {
      "text/plain": [
       "'in...in...incredible?'"
      ]
     },
     "execution_count": 7,
     "metadata": {},
     "output_type": "execute_result"
    }
   ],
   "source": [
    "def slutter(word):\n",
    "    s = word[:2]\n",
    "    return 2*(s+'...')+ word +'?'\n",
    "slutter('incredible')"
   ]
  },
  {
   "cell_type": "code",
   "execution_count": null,
   "id": "3572c9e6",
   "metadata": {},
   "outputs": [],
   "source": [
    "Q2"
   ]
  },
  {
   "cell_type": "code",
   "execution_count": 8,
   "id": "caf01cc9",
   "metadata": {},
   "outputs": [
    {
     "data": {
      "text/plain": [
       "57.3"
      ]
     },
     "execution_count": 8,
     "metadata": {},
     "output_type": "execute_result"
    }
   ],
   "source": [
    "def rad_to_deg(angle):\n",
    "    return round(angle*180/3.14, 1)\n",
    "rad_to_deg(1)"
   ]
  },
  {
   "cell_type": "code",
   "execution_count": null,
   "id": "53a33bfb",
   "metadata": {},
   "outputs": [],
   "source": [
    "Q3"
   ]
  },
  {
   "cell_type": "code",
   "execution_count": 9,
   "id": "9de8a7b7",
   "metadata": {},
   "outputs": [
    {
     "data": {
      "text/plain": [
       "True"
      ]
     },
     "execution_count": 9,
     "metadata": {},
     "output_type": "execute_result"
    }
   ],
   "source": [
    "def is_cuzon(num):\n",
    "    a = (2**num)+1\n",
    "    b = (2*num)+1\n",
    "    if a%b==0:\n",
    "        return True\n",
    "    else:\n",
    "        return False\n",
    "is_cuzon(14)"
   ]
  },
  {
   "cell_type": "code",
   "execution_count": null,
   "id": "abe9f55f",
   "metadata": {},
   "outputs": [],
   "source": [
    "Q4"
   ]
  },
  {
   "cell_type": "code",
   "execution_count": 11,
   "id": "5385bb8c",
   "metadata": {},
   "outputs": [
    {
     "data": {
      "text/plain": [
       "2.6"
      ]
     },
     "execution_count": 11,
     "metadata": {},
     "output_type": "execute_result"
    }
   ],
   "source": [
    "def area_of_hexagon(side):\n",
    "    return round(3*1.73*side*side/2,1)\n",
    "area_of_hexagon(1)"
   ]
  },
  {
   "cell_type": "code",
   "execution_count": null,
   "id": "4d143e43",
   "metadata": {},
   "outputs": [],
   "source": [
    "Q5"
   ]
  },
  {
   "cell_type": "code",
   "execution_count": 12,
   "id": "618f430c",
   "metadata": {},
   "outputs": [
    {
     "data": {
      "text/plain": [
       "5"
      ]
     },
     "execution_count": 12,
     "metadata": {},
     "output_type": "execute_result"
    }
   ],
   "source": [
    "def binary(num):\n",
    "    return int(num, 2)\n",
    "binary('101')"
   ]
  },
  {
   "cell_type": "code",
   "execution_count": null,
   "id": "4b9b6de6",
   "metadata": {},
   "outputs": [],
   "source": []
  }
 ],
 "metadata": {
  "kernelspec": {
   "display_name": "Python 3 (ipykernel)",
   "language": "python",
   "name": "python3"
  },
  "language_info": {
   "codemirror_mode": {
    "name": "ipython",
    "version": 3
   },
   "file_extension": ".py",
   "mimetype": "text/x-python",
   "name": "python",
   "nbconvert_exporter": "python",
   "pygments_lexer": "ipython3",
   "version": "3.9.13"
  }
 },
 "nbformat": 4,
 "nbformat_minor": 5
}
