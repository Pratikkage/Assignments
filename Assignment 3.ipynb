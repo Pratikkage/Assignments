{
 "cells": [
  {
   "cell_type": "code",
   "execution_count": null,
   "id": "e30703e8",
   "metadata": {},
   "outputs": [],
   "source": [
    "Q1\n",
    "With the help of functions, we can avoid rewriting the same logic or code again and again in a program. In a single Program, we can call Python functions anywhere and also call multiple times.\n",
    "\n",
    "Q2\n",
    "The code in a function executes when the function is called\n",
    "\n",
    "Q3\n",
    "def keyword\n",
    "\n",
    "Q4\n",
    "A function is a block of code that does a particular operation and returns a result. It usually accepts inputs as parameters and returns a result. The parameters are not mandatory. A function call is the code used to pass control to a function\n",
    "\n",
    "Q5\n",
    "At any given time during execution, you'll have at most four active Python scopes—local, enclosing, global, and built-in—depending on where you are in the code. On the other hand, you'll always have at least two active scopes, which are the global and built-in scopes.\n",
    "\n",
    "Q6\n",
    "Each call of the function creates new local variables, and their lifetimes expire when the function returns to the caller.\n",
    "\n",
    "Q7\n",
    "The Python return statement is a special statement that you can use inside a function or method to send the function's result back to the caller. A return statement consists of the return keyword followed by an optional return value. The return value of a Python function can be any Python object.\n",
    "\n",
    "Q8\n",
    "if you don't explicitly use a return value in a return statement, or if you totally omit the return statement, then Python will implicitly return a default value for you. That default return value will always be None .\n",
    "\n",
    "Q9\n",
    "using the global keyword.\n",
    "\n",
    "Q10\n",
    "None is a data type of its own (NoneType) and only None can be None.\n",
    "\n",
    "Q11\n",
    "imports a module named areallyourpetsnamederic.\n",
    "\n",
    "Q12\n",
    "spam. bacon().\n",
    "\n",
    "Q13\n",
    "error handling can be used to notify the user of why the error occurred and gracefully exit the process that caused the error\n",
    "\n",
    "Q14\n",
    "The try block lets you test a block of code for errors. The except block lets you handle the error."
   ]
  }
 ],
 "metadata": {
  "kernelspec": {
   "display_name": "Python 3 (ipykernel)",
   "language": "python",
   "name": "python3"
  },
  "language_info": {
   "codemirror_mode": {
    "name": "ipython",
    "version": 3
   },
   "file_extension": ".py",
   "mimetype": "text/x-python",
   "name": "python",
   "nbconvert_exporter": "python",
   "pygments_lexer": "ipython3",
   "version": "3.9.13"
  }
 },
 "nbformat": 4,
 "nbformat_minor": 5
}
