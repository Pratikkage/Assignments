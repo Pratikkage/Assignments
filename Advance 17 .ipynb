{
 "cells": [
  {
   "cell_type": "code",
   "execution_count": null,
   "id": "ca8ff625",
   "metadata": {},
   "outputs": [],
   "source": [
    "Q1\n",
    "The Main difference between Greedy and Non Greedy Match Syntax is The Greedy Match will try to match as many repetitions of the \n",
    "quantified pattern as possible Whereas The Non Greedy Match will try to match as few repetitions of the quantified pattern as\n",
    "possible\n",
    "\n",
    "Q2\n",
    "The Greedy Match will try to match as many repetitions of the quantified pattern as possible. The Non Greedy Match will try to\n",
    "match as few repetitions of the quantified pattern as possible. If only Non Greedy Match is available, we can use other \n",
    "filtering or pattern matching methods of regex and further identify the required pattern.\n",
    "\n",
    "Q3\n",
    "In this Case The Non Tagged Group will not make any diffrence in this case.\n",
    "\n",
    "Q4\n",
    "Here in the below Code Snippet . decimal is not tagged or captured. It will useful in scenarios where the separator of value in\n",
    "a string is of no use and we need to capture only the values.\n",
    "\n",
    "Q5\n",
    "While counting the number of multiple lines or mutiple sentence in a string the positive look ahead makes a difference, without\n",
    "which we wont get the correct count of lines or sentences in a string.\n",
    "\n",
    "Q6\n",
    "Positive Lookahead allows to add a condition for what follows. Negative Lookahead is similar, but it looks behind. That is, it \n",
    "allows to match a pattern only if there’s something before it.\n",
    "\n",
    "Q7\n",
    "Referring to groups by name rather than by number in a standard expression helps to keep the code clear and easy to understand.\n",
    "\n",
    "Q8\n",
    "import re\n",
    "text = \"The cow jumped over the moon\"\n",
    "regobj=re.compile(r'(?P<w1>The)',re.I)\n",
    "regobj.findall(text)\n",
    "['The', 'the']\n",
    "Q9\n",
    "re.findall() module is used to search for all occurrences that match a given pattern. In contrast, re.search() will only return\n",
    "the first occurrence that matches the specified pattern. re.findall() will iterate over all the lines of the file and will \n",
    "return all non-overlapping matches of pattern in a single step.\n",
    "\n",
    "Q10\n",
    "Yes, It may have any name.\n",
    "\n"
   ]
  }
 ],
 "metadata": {
  "kernelspec": {
   "display_name": "Python 3 (ipykernel)",
   "language": "python",
   "name": "python3"
  },
  "language_info": {
   "codemirror_mode": {
    "name": "ipython",
    "version": 3
   },
   "file_extension": ".py",
   "mimetype": "text/x-python",
   "name": "python",
   "nbconvert_exporter": "python",
   "pygments_lexer": "ipython3",
   "version": "3.9.13"
  }
 },
 "nbformat": 4,
 "nbformat_minor": 5
}
