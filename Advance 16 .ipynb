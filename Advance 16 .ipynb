{
 "cells": [
  {
   "cell_type": "code",
   "execution_count": null,
   "id": "96ac4ac5",
   "metadata": {},
   "outputs": [],
   "source": [
    "Q1\n",
    "Regular Expressions, also known as regex or regexp, are used to match strings of text such as particular characters, words, or\n",
    "patterns of characters. It means that we can match and extract any string pattern from the text with the help of regular \n",
    "expressions. it helps the programmers to Write less and cleaner code. it also avoids multiple use of if/else statements.\n",
    "\n",
    "Q2\n",
    "Both (ab)c+ and a(bc)+ are valid patterns. the difference between both these patterns is in (ab)c+ ab is group whereas in \n",
    "a(bc)+ bc is a group.\n",
    "\n",
    "Q3\n",
    "import re statement always has to be imported before using regular expressions.\n",
    "\n",
    "Q4\n",
    "The Characters .,*,?,^,or,(), have a special signiface when used with square brackets. They need not be be explicitly escaped\n",
    "by \\ as in case of pattern texts in a raw string.\n",
    "\n",
    "Q5\n",
    "We can Combine a regular expression pattern into pattern Objects.Which can be used for pattern matching. it also helps to search\n",
    "a pattern again without rewritting it.\n",
    "\n",
    "Q6\n",
    "The re.search() and re.match() both are functions of re module in python. These functions are very efficient and fast for \n",
    "searching in strings. The function searches for some substring in a string and returns a match object if found, else it returns\n",
    "none.\n",
    "\n",
    "There is a difference between the use of both functions. Both return the first match of a substring found in the string, but\n",
    "re.match() searches only from the beginning of the string and return match object if found. But if a match of substring is \n",
    "found somewhere in the middle of the string, it returns none.\n",
    "\n",
    "While re.search() searches for the whole string even if the string contains multi-lines and tries to find a match of the \n",
    "substring in all the lines of string\n",
    "\n",
    "Q7\n",
    "When | us used then patterns searches for or option. i.e <pattern_1>|<pattern_2> means it searches as \n",
    "<pattern_1>or<<pattern_2> in the searched string. the first occurance of matched string will be returned as the Match Object.\n",
    "Using Character set in square Brackets searches for all the character set in the square bracket and if match is found, it \n",
    "returns it.\n",
    "\n",
    "Q8\n",
    "Raw Strings are used in the regular-expression search patterns, so that blackslashes donot have to be escaped.\n",
    "\n"
   ]
  }
 ],
 "metadata": {
  "kernelspec": {
   "display_name": "Python 3 (ipykernel)",
   "language": "python",
   "name": "python3"
  },
  "language_info": {
   "codemirror_mode": {
    "name": "ipython",
    "version": 3
   },
   "file_extension": ".py",
   "mimetype": "text/x-python",
   "name": "python",
   "nbconvert_exporter": "python",
   "pygments_lexer": "ipython3",
   "version": "3.9.13"
  }
 },
 "nbformat": 4,
 "nbformat_minor": 5
}
