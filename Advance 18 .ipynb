{
 "cells": [
  {
   "cell_type": "code",
   "execution_count": null,
   "id": "1ef6580d",
   "metadata": {},
   "outputs": [],
   "source": [
    "Q1\n",
    "The differences between Text Files and Binary Files are:\n",
    "\n",
    "Text files are special subset of binary files that are used to store human readable characters as a rich text document or plain\n",
    "text document. Text files also store data in sequential bytes but bits in text file represents characters.\n",
    "\n",
    "Binary files are those typical files that store data in the form of sequence of bytes grouped into eight bits or sometimes \n",
    "sixteen bits. These bits represent custom data and such files can store multiple types of data (images, audio, text, etc) under \n",
    "a single file.\n",
    "\n",
    "Q2\n",
    "Text files are less prone to get corrupted as any undesired change may just show up once the file is opened and then can easily\n",
    "be removed. Whereas Use binary files instead of text files for image data.\n",
    "\n",
    "Q3\n",
    "When we read or write a python integer using binary operations\n",
    "\n",
    "Binary operations deal with raw data\n",
    "\n",
    "One needs to identify how many bytes one would read or write.\n",
    "\n",
    "Q4\n",
    "When a file is opened using the with keyword, if some exceptions occur after opening a file, or at the end of the file it \n",
    "automatically does the closing of the file. There by not leaving an file in open mode and there would no need to explicitly\n",
    "close a file.\n",
    "\n",
    "Q5\n",
    "Yes, Python have the trailing newline while reading a line of text. When we write a newline has to be provided in python \n",
    "excpicitly.\n",
    "\n",
    "Q6\n",
    "The file operations enable for random-access operation are seek() and tell()\n",
    "\n",
    "Q7\n",
    "The struct package is mostly used while converting a common python types into C language types.\n",
    "\n",
    "Q8\n",
    "Pickling is best option for creating a new binary file using python.\n",
    "\n",
    "Q9\n",
    "Shelve package is used to pickle data but treats the entire file as dictionary.\n",
    "\n",
    "Q10\n",
    "Only string data type can be used as key in this special dictionary object, whereas any picklable Python object can be used as \n",
    "value.\n",
    "\n"
   ]
  }
 ],
 "metadata": {
  "kernelspec": {
   "display_name": "Python 3 (ipykernel)",
   "language": "python",
   "name": "python3"
  },
  "language_info": {
   "codemirror_mode": {
    "name": "ipython",
    "version": 3
   },
   "file_extension": ".py",
   "mimetype": "text/x-python",
   "name": "python",
   "nbconvert_exporter": "python",
   "pygments_lexer": "ipython3",
   "version": "3.9.13"
  }
 },
 "nbformat": 4,
 "nbformat_minor": 5
}
