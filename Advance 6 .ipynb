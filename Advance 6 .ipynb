{
 "cells": [
  {
   "cell_type": "code",
   "execution_count": null,
   "id": "42ab95b6",
   "metadata": {},
   "outputs": [],
   "source": [
    "Q1\n",
    "Exception Processing is important to find exceptions that causes the runtime error. As runtime errors Halt the program \n",
    "execution when exception occurs.\n",
    "\n",
    "Exception Processing is used in Various Applications of which few examples are:\n",
    "\n",
    "Checking Appropriate use of input in an application\n",
    "\n",
    "Checking for Arithmetic exceptions in mathematical executions\n",
    "\n",
    "Checking File I/O exceptions during File handling\n",
    "\n",
    "Q2\n",
    "If Exceptions are not handled flow of program will be broken during the run time which might lead to a abnormal termination \n",
    "of the program. Inshort inability of program to handle exceptions will result in crashing of program.\n",
    "\n",
    "Q3\n",
    "Python provides try and except statements for recovering from an exception in your script.\n",
    "\n",
    "Q4\n",
    "\n",
    "Q5\n"
   ]
  }
 ],
 "metadata": {
  "kernelspec": {
   "display_name": "Python 3 (ipykernel)",
   "language": "python",
   "name": "python3"
  },
  "language_info": {
   "codemirror_mode": {
    "name": "ipython",
    "version": 3
   },
   "file_extension": ".py",
   "mimetype": "text/x-python",
   "name": "python",
   "nbconvert_exporter": "python",
   "pygments_lexer": "ipython3",
   "version": "3.9.13"
  }
 },
 "nbformat": 4,
 "nbformat_minor": 5
}
