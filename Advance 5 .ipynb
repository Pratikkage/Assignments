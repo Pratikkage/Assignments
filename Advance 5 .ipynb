{
 "cells": [
  {
   "cell_type": "code",
   "execution_count": null,
   "id": "8de7c63c",
   "metadata": {},
   "outputs": [],
   "source": [
    "Q1\n",
    "Inheritence is nothing but reusing the code of Parent class by the child class. Similary when a child class inherits\n",
    "its properties from multiple Parent classes this scenario is called Multiple Inheritence\n",
    "\n",
    "Q2\n",
    "Delegation is a design pattern in which an object, called the delegate, is responsible for performing certain tasks on behalf\n",
    "of another object, called the delegator.\n",
    "\n",
    "Q3\n",
    "Composition is a concept that models a has a relationship. It enables creating complex types by combining objects of other\n",
    "types. This means that a class Composite can contain an object of another class Component . This relationship means that a Composite has a Component .\n",
    "\n",
    "Q4\n",
    "If a function is an attribute of class and it is accessed via the instances, they are called bound methods. A bound method\n",
    "is one that has self as its first argument. Since these are dependent on the instance of classes, these are also known as instance methods.\n",
    "\n",
    "Q5\n",
    "Pseudoprivate attributes are also useful in larger frameworks or tools, both to avoid introducing new method names that might\n",
    "accidentally hide definitions elsewhere in the class tree and to reduce the chance of internal methods being replaced by names\n",
    "defined lower in the tree. If a method is intended for use only within a class that may be mixed into other classes, the double\n",
    "underscore prefix ensures that the method won't interfere with other names in the tree, especially in multiple-inheritance\n",
    "scenarios\n",
    "\n"
   ]
  }
 ],
 "metadata": {
  "kernelspec": {
   "display_name": "Python 3 (ipykernel)",
   "language": "python",
   "name": "python3"
  },
  "language_info": {
   "codemirror_mode": {
    "name": "ipython",
    "version": 3
   },
   "file_extension": ".py",
   "mimetype": "text/x-python",
   "name": "python",
   "nbconvert_exporter": "python",
   "pygments_lexer": "ipython3",
   "version": "3.9.13"
  }
 },
 "nbformat": 4,
 "nbformat_minor": 5
}
