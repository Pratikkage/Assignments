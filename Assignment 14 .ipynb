{
 "cells": [
  {
   "cell_type": "code",
   "execution_count": 1,
   "id": "8dec21d6",
   "metadata": {},
   "outputs": [
    {
     "ename": "SyntaxError",
     "evalue": "invalid syntax (2128256152.py, line 12)",
     "output_type": "error",
     "traceback": [
      "\u001b[1;36m  File \u001b[1;32m\"C:\\Users\\prati\\AppData\\Local\\Temp\\ipykernel_42544\\2128256152.py\"\u001b[1;36m, line \u001b[1;32m12\u001b[0m\n\u001b[1;33m    tuple submodule provides read-only access for the tuple userdata type\u001b[0m\n\u001b[1;37m          ^\u001b[0m\n\u001b[1;31mSyntaxError\u001b[0m\u001b[1;31m:\u001b[0m invalid syntax\n"
     ]
    }
   ],
   "source": [
    "Q1\n",
    "Red-Green-Blue-Alpha\n",
    "\n",
    "Q2\n",
    "imgobj = Image.open('x.png')\n",
    "\n",
    "pixels = imgobj.convert('RGBA')\n",
    "\n",
    "data = imgobj.getdata()\n",
    "\n",
    "Q3\n",
    "tuple submodule provides read-only access for the tuple userdata type"
   ]
  },
  {
   "cell_type": "code",
   "execution_count": null,
   "id": "fb4180f7",
   "metadata": {},
   "outputs": [],
   "source": [
    "Q4"
   ]
  },
  {
   "cell_type": "code",
   "execution_count": 7,
   "id": "23e3321f",
   "metadata": {},
   "outputs": [
    {
     "data": {
      "text/plain": [
       "2160"
      ]
     },
     "execution_count": 7,
     "metadata": {},
     "output_type": "execute_result"
    }
   ],
   "source": [
    "import PIL\n",
    "from PIL import Image\n",
    "\n",
    "img = Image.open('D:\\Goa/IMG20230228183934.jpg')\n",
    "  \n",
    "img.width"
   ]
  },
  {
   "cell_type": "code",
   "execution_count": 8,
   "id": "762333c4",
   "metadata": {},
   "outputs": [
    {
     "data": {
      "text/plain": [
       "3840"
      ]
     },
     "execution_count": 8,
     "metadata": {},
     "output_type": "execute_result"
    }
   ],
   "source": [
    "img.height\n"
   ]
  },
  {
   "cell_type": "code",
   "execution_count": null,
   "id": "0b5aa372",
   "metadata": {},
   "outputs": [],
   "source": [
    "Q5\n",
    "Image.getImage()\n",
    "\n",
    "Q6\n",
    "Image.save()\n",
    "\n",
    "Q7\n",
    "ImageDraw()\n",
    "\n",
    "Q8\n",
    " "
   ]
  }
 ],
 "metadata": {
  "kernelspec": {
   "display_name": "Python 3 (ipykernel)",
   "language": "python",
   "name": "python3"
  },
  "language_info": {
   "codemirror_mode": {
    "name": "ipython",
    "version": 3
   },
   "file_extension": ".py",
   "mimetype": "text/x-python",
   "name": "python",
   "nbconvert_exporter": "python",
   "pygments_lexer": "ipython3",
   "version": "3.9.13"
  }
 },
 "nbformat": 4,
 "nbformat_minor": 5
}
