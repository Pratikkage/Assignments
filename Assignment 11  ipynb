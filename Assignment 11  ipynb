{
 "cells": [
  {
   "cell_type": "code",
   "execution_count": null,
   "id": "f966b6d4",
   "metadata": {},
   "outputs": [],
   "source": [
    "\n",
    "Q1\n",
    "assert(spam >= 10, 'The spam variable is less than 10. ')\n",
    "\n",
    "Q2\n",
    "cassert eggs.lower() != bacon.lower(), 'The eggs and bacon variables are the same!' or assert eggs.upper() != bacon.upper(), 'The eggs and bacon variables are the same!'assert eggs.lower() != bacon.lower(), 'The eggs and bacon variables are the same!' or assert eggs.upper() != bacon.upper(), 'The eggs and bacon variables are the same!'\n",
    "\n",
    "Q3\n",
    "Write an assert statement that always triggers an AssertionError.\n",
    "\n",
    "Q4\n",
    "import logging logging.basicConfig(level=logging.DEBUG, format=' %(asctime)s - %(levelname)s - %(message)s')\n",
    "\n",
    "Q5\n",
    "import logging logging.basicConfig(filename='programLog.txt', level=logging.DEBUG, format=' %(asctime)s - %(levelname)s - %(message)s')\n",
    "\n",
    "Q6\n",
    "DEBUG, INFO, WARNING, ERROR, and CRITICAL\n",
    "\n",
    "Q7\n",
    "logging.disable(logging.CRITICAL)\n",
    "\n",
    "Q8\n",
    "You can disable logging messages without removing the logging function calls. You can selectively disable lower-level logging messages. You can create logging messages. Logging messages provides a timestamp.\n",
    "\n",
    "Q9\n",
    "Step over – An action to take in the debugger that will step over a given line. If the line contains a function the function will be executed and the result returned without debugging each line.\n",
    "\n",
    "Step into – An action to take in the debugger. If the line does not contain a function it behaves the same as “step over” but if it does the debugger will enter the called function and continue line-by-line debugging there.\n",
    "\n",
    "Step out – An action to take in the debugger that returns to the line where the current function was called.\n",
    "\n",
    "Q10\n",
    "when a breakpoint is encountered\n",
    "\n",
    "Q11\n",
    "breakpoint is an intentional stopping or pausing place in a program, put in place for debugging purposes\n",
    "\n",
    " "
   ]
  }
 ],
 "metadata": {
  "kernelspec": {
   "display_name": "Python 3 (ipykernel)",
   "language": "python",
   "name": "python3"
  },
  "language_info": {
   "codemirror_mode": {
    "name": "ipython",
    "version": 3
   },
   "file_extension": ".py",
   "mimetype": "text/x-python",
   "name": "python",
   "nbconvert_exporter": "python",
   "pygments_lexer": "ipython3",
   "version": "3.9.13"
  }
 },
 "nbformat": 4,
 "nbformat_minor": 5
}
