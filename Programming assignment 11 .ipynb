{
 "cells": [
  {
   "cell_type": "code",
   "execution_count": null,
   "id": "f2257352",
   "metadata": {},
   "outputs": [],
   "source": [
    "Q1"
   ]
  },
  {
   "cell_type": "code",
   "execution_count": 2,
   "id": "23793a41",
   "metadata": {},
   "outputs": [
    {
     "name": "stdout",
     "output_type": "stream",
     "text": [
      "Enter value of k3\n",
      "Hello\n"
     ]
    }
   ],
   "source": [
    "s='Hello how are you'\n",
    "k = int(input('Enter value of k'))\n",
    "w=[word for word in s.split()]\n",
    "for i in w:\n",
    "    if len(i)>k:\n",
    "        print(i)"
   ]
  },
  {
   "cell_type": "code",
   "execution_count": null,
   "id": "8a2cfaf8",
   "metadata": {},
   "outputs": [],
   "source": [
    "Q2"
   ]
  },
  {
   "cell_type": "code",
   "execution_count": 3,
   "id": "b30ba6b6",
   "metadata": {},
   "outputs": [
    {
     "name": "stdout",
     "output_type": "stream",
     "text": [
      "2\n",
      "abbdndk\n"
     ]
    }
   ],
   "source": [
    "s='abdbdndk'\n",
    "i = int(input())\n",
    "a=s[:i]\n",
    "b=s[i+1:]\n",
    "print(a+b)"
   ]
  },
  {
   "cell_type": "code",
   "execution_count": null,
   "id": "828357a3",
   "metadata": {},
   "outputs": [],
   "source": [
    "Q3"
   ]
  },
  {
   "cell_type": "code",
   "execution_count": 4,
   "id": "5df3ec99",
   "metadata": {},
   "outputs": [
    {
     "name": "stdout",
     "output_type": "stream",
     "text": [
      "['Hello', 'how', 'are', 'you']\n",
      "Hello how are you\n"
     ]
    }
   ],
   "source": [
    "s='Hello how are you'\n",
    "\n",
    "sp=s.split(\" \")\n",
    "print(sp)\n",
    "jn=\" \".join(sp)\n",
    "print(jn)"
   ]
  },
  {
   "cell_type": "code",
   "execution_count": null,
   "id": "32b16c71",
   "metadata": {},
   "outputs": [],
   "source": [
    "Q4"
   ]
  },
  {
   "cell_type": "code",
   "execution_count": 5,
   "id": "83290912",
   "metadata": {},
   "outputs": [
    {
     "name": "stdout",
     "output_type": "stream",
     "text": [
      "12\n",
      "No\n"
     ]
    }
   ],
   "source": [
    "import re\n",
    "s=input()\n",
    "a=re.compile('[^01]')\n",
    "if len(a.findall(s)):\n",
    "    print('No')\n",
    "else:\n",
    "    print('YEs')"
   ]
  },
  {
   "cell_type": "code",
   "execution_count": null,
   "id": "84d21180",
   "metadata": {},
   "outputs": [],
   "source": [
    "Q5"
   ]
  },
  {
   "cell_type": "code",
   "execution_count": 6,
   "id": "f9271404",
   "metadata": {},
   "outputs": [
    {
     "name": "stdout",
     "output_type": "stream",
     "text": [
      "Hello\n",
      "how\n",
      "fine\n"
     ]
    }
   ],
   "source": [
    "s1='Hello how are you'\n",
    "s2='are you fine'\n",
    "s=s1+\" \"+s2\n",
    "w=s.split(' ')\n",
    "for i in w:\n",
    "    if w.count(i)==1:\n",
    "        print(i)"
   ]
  },
  {
   "cell_type": "code",
   "execution_count": null,
   "id": "256580fe",
   "metadata": {},
   "outputs": [],
   "source": [
    "Q6"
   ]
  },
  {
   "cell_type": "code",
   "execution_count": 7,
   "id": "b692136c",
   "metadata": {},
   "outputs": [
    {
     "name": "stdout",
     "output_type": "stream",
     "text": [
      "are\n",
      "you\n",
      "are\n",
      "you\n"
     ]
    }
   ],
   "source": [
    "s1='Hello how are you'\n",
    "s2='are you fine'\n",
    "s=s1+\" \"+s2\n",
    "w=s.split(' ')\n",
    "for i in w:\n",
    "    if w.count(i)>1:\n",
    "        print(i)"
   ]
  },
  {
   "cell_type": "code",
   "execution_count": null,
   "id": "b6dcfc5c",
   "metadata": {},
   "outputs": [],
   "source": [
    "Q7"
   ]
  },
  {
   "cell_type": "code",
   "execution_count": 8,
   "id": "19147a30",
   "metadata": {},
   "outputs": [
    {
     "name": "stdout",
     "output_type": "stream",
     "text": [
      "special character\n"
     ]
    }
   ],
   "source": [
    "sc = re.compile('[@_!#$%^&*()<>?/\\|}{~:]')\n",
    "s = 'Hello how are you ?'\n",
    "if sc.search(s):\n",
    "    print(\"special character\")\n",
    "else:\n",
    "    print(\"No special Character\")"
   ]
  },
  {
   "cell_type": "code",
   "execution_count": null,
   "id": "22349c1c",
   "metadata": {},
   "outputs": [],
   "source": []
  }
 ],
 "metadata": {
  "kernelspec": {
   "display_name": "Python 3 (ipykernel)",
   "language": "python",
   "name": "python3"
  },
  "language_info": {
   "codemirror_mode": {
    "name": "ipython",
    "version": 3
   },
   "file_extension": ".py",
   "mimetype": "text/x-python",
   "name": "python",
   "nbconvert_exporter": "python",
   "pygments_lexer": "ipython3",
   "version": "3.9.13"
  }
 },
 "nbformat": 4,
 "nbformat_minor": 5
}
