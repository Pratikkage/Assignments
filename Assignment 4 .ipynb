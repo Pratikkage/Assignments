{
 "cells": [
  {
   "cell_type": "code",
   "execution_count": null,
   "id": "d37148d0",
   "metadata": {},
   "outputs": [],
   "source": [
    "Q1\n",
    "used to define \"list literals,\" allowing you to declare a list and its contents in your program.\n",
    "\n",
    "Q2\n",
    "spam[2] = 'hello'\n",
    "\n",
    "Q3\n",
    "3\n",
    "\n",
    "Q4\n",
    "d\n",
    "\n",
    "Q5\n",
    "['a', 'b']\n",
    "\n",
    "Q6\n",
    "1\n",
    "\n",
    "Q7\n",
    "[3.14, 'cat', 11, 'cat', True, 99]\n",
    "\n",
    "Q8\n",
    "[3.14, 11, 'cat', True]\n",
    "\n",
    "Q9\n",
    "The operator for list concatenation is +, while the operator for replication is *. (This is the same as for strings.)\n",
    "\n",
    "Q10\n",
    "While append() will add values only to the end of a list, insert() can add them anywhere in the list.\n",
    "\n",
    "Q11\n",
    "The del statement and the remove() list method are two ways to remove values from a list.\n",
    "\n",
    "Q12\n",
    "a string's length is the number of characters in the string; a list's length is the number of items in the list.\n",
    "\n",
    "Q13\n",
    "tuples are immutable as opposed to lists which are mutable.\n",
    "\n",
    "Q14\n",
    "(42,)\n",
    "\n",
    "Q15\n",
    "The tuple() and list() functions, respectively\n",
    "\n",
    "Q16\n",
    "They contain references to list values.\n",
    "\n",
    "Q17\n",
    "The copy.copy() function will do a shallow copy of a list, while the copy.deepcopy() function will do a deep copy of a list. That is, only copy.deepcopy() will duplicate any lists inside the list."
   ]
  }
 ],
 "metadata": {
  "kernelspec": {
   "display_name": "Python 3 (ipykernel)",
   "language": "python",
   "name": "python3"
  },
  "language_info": {
   "codemirror_mode": {
    "name": "ipython",
    "version": 3
   },
   "file_extension": ".py",
   "mimetype": "text/x-python",
   "name": "python",
   "nbconvert_exporter": "python",
   "pygments_lexer": "ipython3",
   "version": "3.9.13"
  }
 },
 "nbformat": 4,
 "nbformat_minor": 5
}
