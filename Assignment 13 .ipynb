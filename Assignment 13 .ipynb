{
 "cells": [
  {
   "cell_type": "code",
   "execution_count": null,
   "id": "a397f428",
   "metadata": {},
   "outputs": [],
   "source": [
    "\n",
    "Q1\n",
    "While Excel (XLS and XLSX) file formats are better for storing more complex data, CSV files are supported by nearly all data upload interfaces.\n",
    "\n",
    "Q2\n",
    "call open() and pass it 'w' to open a file in write mode and 'r' to reader mode\n",
    "\n",
    "Q3\n",
    "‘r’ Open a file for reading. (default)\n",
    "\n",
    "‘w’ Open a file for writing. Creates a new file if it does not exist or truncates the file if it exists.\n",
    "\n",
    "‘x’ Open a file for exclusive creation. If the file already exists, the operation fails.\n",
    "\n",
    "‘a’ Open for appending at the end of the file without truncating it. Creates a new file if it does not exist.\n",
    "\n",
    "‘t’ Open in text mode. (default)\n",
    "\n",
    "Q4\n",
    "import csv\n",
    "\n",
    "RESULTS = ['apple','cherry','orange','pineapple','strawberry']\n",
    "\n",
    "result_file = open(\"output.csv\",'wb')\n",
    "\n",
    "wr = csv.writer(result_file, dialect='excel')\n",
    "\n",
    "for item in RESULTS:\n",
    "\n",
    "wr.writerow(item)\n",
    "Q5\n",
    "This changes the delimiter and line terminator characters in your file.\n",
    "\n",
    "Q6\n",
    "loads()\n",
    "\n",
    "Q7\n",
    "json.dumps()\n",
    "\n"
   ]
  }
 ],
 "metadata": {
  "kernelspec": {
   "display_name": "Python 3 (ipykernel)",
   "language": "python",
   "name": "python3"
  },
  "language_info": {
   "codemirror_mode": {
    "name": "ipython",
    "version": 3
   },
   "file_extension": ".py",
   "mimetype": "text/x-python",
   "name": "python",
   "nbconvert_exporter": "python",
   "pygments_lexer": "ipython3",
   "version": "3.9.13"
  }
 },
 "nbformat": 4,
 "nbformat_minor": 5
}
