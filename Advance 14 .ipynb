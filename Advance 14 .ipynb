{
 "cells": [
  {
   "cell_type": "code",
   "execution_count": null,
   "id": "b1ce7385",
   "metadata": {},
   "outputs": [],
   "source": [
    "Q1"
   ]
  },
  {
   "cell_type": "code",
   "execution_count": null,
   "id": "09c2fef1",
   "metadata": {},
   "outputs": [],
   "source": [
    "A=A+1 evaluates to finding A, adding 1 to it. Then storing the value again in variable A. This expression makes Python to \n",
    "look for memory holder of a twice. But A+=1 simply means value of A is to incremented by 1. As memory address has to be \n",
    "identified once, += leads to faster operation.\n",
    "\n"
   ]
  },
  {
   "cell_type": "code",
   "execution_count": null,
   "id": "bdec7c5f",
   "metadata": {},
   "outputs": [],
   "source": [
    "Q2"
   ]
  },
  {
   "cell_type": "code",
   "execution_count": null,
   "id": "9fd34e4d",
   "metadata": {},
   "outputs": [],
   "source": [
    "Minimum number of lines required to write above code in languages other Python will be 4, two for assigning initial values for\n",
    "variables a and b, and two for reassignment i.e. a=a+b and b=a.\n",
    "\n"
   ]
  },
  {
   "cell_type": "code",
   "execution_count": null,
   "id": "0476e61a",
   "metadata": {},
   "outputs": [],
   "source": [
    "Q3"
   ]
  },
  {
   "cell_type": "code",
   "execution_count": null,
   "id": "296b646a",
   "metadata": {},
   "outputs": [],
   "source": [
    "The Most effective way to set a list of 100 integers to 0 in python is by using repition operator(*) or by using \n",
    "list comprehension.\n",
    "\n"
   ]
  },
  {
   "cell_type": "code",
   "execution_count": null,
   "id": "a8855bee",
   "metadata": {},
   "outputs": [],
   "source": [
    "list_zero=[0]*100\n",
    "print(list_zero)\n"
   ]
  },
  {
   "cell_type": "code",
   "execution_count": null,
   "id": "ec018373",
   "metadata": {},
   "outputs": [],
   "source": [
    "Q4"
   ]
  },
  {
   "cell_type": "code",
   "execution_count": null,
   "id": "f28f612f",
   "metadata": {},
   "outputs": [],
   "source": [
    "my_list = [1,2,3]*33\n",
    "print(my_list)"
   ]
  },
  {
   "cell_type": "code",
   "execution_count": null,
   "id": "ee3bf246",
   "metadata": {},
   "outputs": [],
   "source": [
    "Q5"
   ]
  },
  {
   "cell_type": "code",
   "execution_count": null,
   "id": "c59fdb05",
   "metadata": {},
   "outputs": [],
   "source": [
    "my_list = [[1,1],[2,2],[3,3],[4,4],[5,5]] # 2 dimensional List\n",
    "for x in range(len(my_list)):\n",
    "    for y in range(len(my_list[x])):\n",
    "        print(my_list[x][y],end=\" \")"
   ]
  },
  {
   "cell_type": "code",
   "execution_count": null,
   "id": "2640b0d7",
   "metadata": {},
   "outputs": [],
   "source": [
    "Q6"
   ]
  },
  {
   "cell_type": "code",
   "execution_count": null,
   "id": "7b8be124",
   "metadata": {},
   "outputs": [],
   "source": [
    "my_list = [ele for ele in 'iNeuron']\n",
    "print(my_list)"
   ]
  },
  {
   "cell_type": "code",
   "execution_count": null,
   "id": "5d29a13e",
   "metadata": {},
   "outputs": [],
   "source": [
    "Q7"
   ]
  },
  {
   "cell_type": "code",
   "execution_count": null,
   "id": "d1e72cad",
   "metadata": {},
   "outputs": [],
   "source": [
    "Get support with a user-written Python Programme: Start a command prompt (Windows) or terminal window (Linux/Mac). \n",
    "If the current working directory is the same as the location in which you saved the file, you can simply specify the\n",
    "filename as a command-line argument to the Python interpreter.\n",
    "\n",
    "Get support with a User-written Python Program from IDLE: You can also create script files and run them in IDLE. From the \n",
    "Shell window menu, select File → New File. That should open an additional editing window. Type in the code to be executed. \n",
    "From the menu in that window, select File → Save or File → Save As… and save the file to disk. Then select Run → Run Module.\n",
    "The output should appear back in the interpreter\n",
    "\n"
   ]
  },
  {
   "cell_type": "code",
   "execution_count": null,
   "id": "dc0d3cc0",
   "metadata": {},
   "outputs": [],
   "source": [
    "Q8"
   ]
  },
  {
   "cell_type": "code",
   "execution_count": null,
   "id": "0c3a3733",
   "metadata": {},
   "outputs": [],
   "source": [
    "The tasks which can be performed with the functions in python are:\n",
    "\n",
    "A function is an instance of the Object type.\n",
    "\n",
    "You can store the function in a variable.\n",
    "\n",
    "You can pass the function as a parameter to another function.\n",
    "\n",
    "You can return the function from a function"
   ]
  },
  {
   "cell_type": "code",
   "execution_count": null,
   "id": "c2e93316",
   "metadata": {},
   "outputs": [],
   "source": [
    "Q9"
   ]
  },
  {
   "cell_type": "code",
   "execution_count": null,
   "id": "087e65a7",
   "metadata": {},
   "outputs": [],
   "source": [
    "Wrappers Around the functions are known as Decrators.\n",
    "\n"
   ]
  },
  {
   "cell_type": "code",
   "execution_count": null,
   "id": "a811646b",
   "metadata": {},
   "outputs": [],
   "source": [
    "Q10"
   ]
  },
  {
   "cell_type": "code",
   "execution_count": null,
   "id": "a828861c",
   "metadata": {},
   "outputs": [],
   "source": [
    "Generator functions are a special kind of function that return a lazy iterator. These are objects that you can loop over like\n",
    "a list. However, unlike lists, lazy iterators do not store their contents in memory.\n",
    "\n"
   ]
  },
  {
   "cell_type": "code",
   "execution_count": null,
   "id": "4478bc45",
   "metadata": {},
   "outputs": [],
   "source": [
    "Q11"
   ]
  },
  {
   "cell_type": "code",
   "execution_count": null,
   "id": "cd658822",
   "metadata": {},
   "outputs": [],
   "source": [
    "Generator is a written as normal function but uses yield keyword to return values instead of return keyword.\n",
    "\n"
   ]
  },
  {
   "cell_type": "code",
   "execution_count": null,
   "id": "3b4f0cfc",
   "metadata": {},
   "outputs": [],
   "source": [
    "Q12"
   ]
  },
  {
   "cell_type": "code",
   "execution_count": null,
   "id": "0dde251c",
   "metadata": {},
   "outputs": [],
   "source": [
    "return statement sends a specified value back to its caller whereas yield statment can produce a sequence of values. \n",
    "We should use generator when we want to iterate over a sequence, but don’t want to store the entire sequence in memory.\n",
    "\n"
   ]
  }
 ],
 "metadata": {
  "kernelspec": {
   "display_name": "Python 3 (ipykernel)",
   "language": "python",
   "name": "python3"
  },
  "language_info": {
   "codemirror_mode": {
    "name": "ipython",
    "version": 3
   },
   "file_extension": ".py",
   "mimetype": "text/x-python",
   "name": "python",
   "nbconvert_exporter": "python",
   "pygments_lexer": "ipython3",
   "version": "3.9.13"
  }
 },
 "nbformat": 4,
 "nbformat_minor": 5
}
