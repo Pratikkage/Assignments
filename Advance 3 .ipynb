{
 "cells": [
  {
   "cell_type": "code",
   "execution_count": null,
   "id": "5826edc1",
   "metadata": {},
   "outputs": [],
   "source": [
    "Q1\n",
    "An abstract class/superclass can be considered as a blueprint for other classes. It allows you to create a set of methods that \n",
    "must be created within any child classes built from the abstract class. A class which contains one or more abstract methods is \n",
    "called an abstract class.\n",
    "\n",
    "Whereas an abstract method is a method that has a declaration but does not have an implementation\n",
    "\n",
    "Q2\n",
    "When a Class statement's top level contains a basic assignment statement, its usually treated as a class attribute or class \n",
    "level variable.\n",
    "\n",
    "where as assignment statements inside methods are treated as instance attributes or local attributes.\n",
    "\n",
    "When an instance of a class is created a single copy of class attributes is maintained and shared to all instances of class. \n",
    "where as each instance object maintains its own copy of instance variables.\n",
    "\n",
    "Q3\n",
    "if a child class has init method, then it will not inherit the init method of the parent class. in other words the init\n",
    "method of the child class overrides the init method of the parent class. so we have to manually call a parent superclass's init using super() method\n",
    "\n",
    "Q4\n",
    "super() method can be used to augment, instead of completely replacing, an inherited method.\n",
    "\n",
    "Q5\n",
    "A Variable which is defined inside a function is local to that function. it is accesible from the point at which it is defined \n",
    "until the end of the function, and exists for as long as the function is existing.\n",
    "\n",
    "Similary a variable inside of a class also has a local variable scope. Variables which are defined in the class body \n",
    "(but outside all methods) are called as class level variables or class attributes. they can be referenced by there bare\n",
    "names within the same scope, but they can also be accessed from outside this scope if we use the attribute access \n",
    "operator (.). on a class or an instance of the class."
   ]
  }
 ],
 "metadata": {
  "kernelspec": {
   "display_name": "Python 3 (ipykernel)",
   "language": "python",
   "name": "python3"
  },
  "language_info": {
   "codemirror_mode": {
    "name": "ipython",
    "version": 3
   },
   "file_extension": ".py",
   "mimetype": "text/x-python",
   "name": "python",
   "nbconvert_exporter": "python",
   "pygments_lexer": "ipython3",
   "version": "3.9.13"
  }
 },
 "nbformat": 4,
 "nbformat_minor": 5
}
