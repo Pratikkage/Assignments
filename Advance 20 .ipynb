{
 "cells": [
  {
   "cell_type": "code",
   "execution_count": null,
   "id": "39c0cfe3",
   "metadata": {},
   "outputs": [],
   "source": [
    "\n",
    "Q1\n",
    "Both the float and decimal types store numerical values in Python.\n",
    "\n",
    "Use floats when convenience and speed matter. A float gives you an approximation of the number you declare.\n",
    "\n",
    "Use decimals when precision matters. Decimals can suffer from their own precision issues, but generally, decimals are more\n",
    "precise than floats. The performance difference between float and decimal, with Python 3, is not outlandish, and in my \n",
    "experience, the precision benefits of a decimal outweigh the performance benefits of a float.\n",
    "\n",
    "Q2\n",
    "Both values are same but internal representation at storage Is different. Precsion differs, Decimal('1.200') gives internally \n",
    "1.200 and Decimal('1.2') gives 1.2.\n",
    "\n",
    "Q3\n",
    "Both values are checked to be equal , they only differ in precision.\n",
    "\n",
    "Q4\n",
    "Floating-point value is converted to Decimal format. Decimal can store float value with absolute precision. But when float \n",
    "value is given as Decimal object,it first has to be converted from floating point value which might already have rounding error.\n",
    "\n",
    "Hence it is preferable to start a Decimal object with a string.\n",
    "\n",
    "Q5\n",
    "We can do it with use of Decimal().\n",
    "\n",
    "Q6\n",
    "Arithmetic operfations like Adding,subtracting or multiplying a Decimal object by a floating-point value is generates an error.\n",
    "\n",
    "To do these operations, the floating point has to be converted to a Decimal.\n",
    "\n",
    "Q7\n",
    "Value of 0.5 will be represented as ½.\n",
    "\n",
    "Q8\n",
    "The decimal module provides support for fast correctly rounded decimal floating point arithmetic\n",
    "\n",
    "Q9\n",
    "Both will be reduced to 1/2\n",
    "\n",
    "Q10\n",
    "Fraction class and integer type(int) are related in form of a container.It contains two ints, one the numerator and the other \n",
    "the denominator\n",
    "\n",
    " "
   ]
  }
 ],
 "metadata": {
  "kernelspec": {
   "display_name": "Python 3 (ipykernel)",
   "language": "python",
   "name": "python3"
  },
  "language_info": {
   "codemirror_mode": {
    "name": "ipython",
    "version": 3
   },
   "file_extension": ".py",
   "mimetype": "text/x-python",
   "name": "python",
   "nbconvert_exporter": "python",
   "pygments_lexer": "ipython3",
   "version": "3.9.13"
  }
 },
 "nbformat": 4,
 "nbformat_minor": 5
}
