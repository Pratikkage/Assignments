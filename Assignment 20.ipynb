{
 "cells": [
  {
   "cell_type": "code",
   "execution_count": null,
   "id": "a25d2e5f",
   "metadata": {},
   "outputs": [],
   "source": [
    "Q1"
   ]
  },
  {
   "cell_type": "code",
   "execution_count": 1,
   "id": "46f403bc",
   "metadata": {},
   "outputs": [
    {
     "data": {
      "text/plain": [
       "43"
      ]
     },
     "execution_count": 1,
     "metadata": {},
     "output_type": "execute_result"
    }
   ],
   "source": [
    "test1 = 'This is a test of the emergency text system'\n",
    "len(test1)"
   ]
  },
  {
   "cell_type": "code",
   "execution_count": 2,
   "id": "eeb01d19",
   "metadata": {},
   "outputs": [],
   "source": [
    "with open('test.txt', 'wt') as f:\n",
    "    f.write(test1)\n",
    "f.close()"
   ]
  },
  {
   "cell_type": "code",
   "execution_count": 3,
   "id": "756b9ea1",
   "metadata": {},
   "outputs": [
    {
     "data": {
      "text/plain": [
       "True"
      ]
     },
     "execution_count": 3,
     "metadata": {},
     "output_type": "execute_result"
    }
   ],
   "source": [
    "with open('test.txt', 'rt') as i:\n",
    "    test2 = i.read()\n",
    "len(test2)\n",
    "test1 == test2"
   ]
  },
  {
   "cell_type": "code",
   "execution_count": null,
   "id": "9b51f5f3",
   "metadata": {},
   "outputs": [],
   "source": [
    "Q2"
   ]
  },
  {
   "cell_type": "code",
   "execution_count": 4,
   "id": "7eff8fcc",
   "metadata": {},
   "outputs": [
    {
     "data": {
      "text/plain": [
       "True"
      ]
     },
     "execution_count": 4,
     "metadata": {},
     "output_type": "execute_result"
    }
   ],
   "source": [
    "with open('test.txt', 'rt') as i:\n",
    "    test2 = i.read()\n",
    "len(test2)\n",
    "test1 == test2"
   ]
  },
  {
   "cell_type": "code",
   "execution_count": null,
   "id": "4848de3e",
   "metadata": {},
   "outputs": [],
   "source": [
    "Q3"
   ]
  },
  {
   "cell_type": "code",
   "execution_count": 5,
   "id": "320add9f",
   "metadata": {},
   "outputs": [],
   "source": [
    "text = '''title,author,year\n",
    "The Weirdstone of Brisingamen,Alan Garner,1960\n",
    "Perdido Street Station,China Miéville,2000\n",
    "Thud!,Terry Pratchett,2005\n",
    "The Spellman Files,Lisa Lutz,2007\n",
    "Small Gods,Terry Pratchett,1992\n",
    "'''\n",
    "with open('books.csv', 'wt') as f:\n",
    "    f.write(text)"
   ]
  },
  {
   "cell_type": "code",
   "execution_count": null,
   "id": "e2b4a30a",
   "metadata": {},
   "outputs": [],
   "source": [
    "Q4"
   ]
  },
  {
   "cell_type": "code",
   "execution_count": 6,
   "id": "7a093fbb",
   "metadata": {},
   "outputs": [
    {
     "data": {
      "text/plain": [
       "<sqlite3.Cursor at 0x1ee1c6026c0>"
      ]
     },
     "execution_count": 6,
     "metadata": {},
     "output_type": "execute_result"
    }
   ],
   "source": [
    "import sqlite3\n",
    "db = sqlite3.connect('books.db')\n",
    "curs = db.cursor()\n",
    "curs.execute('''create table book (title text, author text, year int)''')"
   ]
  },
  {
   "cell_type": "code",
   "execution_count": 8,
   "id": "c7681343",
   "metadata": {},
   "outputs": [],
   "source": [
    "db.commit()\n"
   ]
  },
  {
   "cell_type": "code",
   "execution_count": null,
   "id": "417b01a9",
   "metadata": {},
   "outputs": [],
   "source": [
    "Q5"
   ]
  },
  {
   "cell_type": "code",
   "execution_count": 9,
   "id": "4c3f7a0e",
   "metadata": {},
   "outputs": [],
   "source": [
    "import csv\n",
    "import sqlite3\n",
    "ins_str = 'insert into book values(?, ?, ?)'\n",
    "with open('books.csv', 'rt') as infile:\n",
    "    books = csv.DictReader(infile)\n",
    "    for book in books:\n",
    "        curs.execute(ins_str, (book['title'], book['author'], book['year']))"
   ]
  },
  {
   "cell_type": "code",
   "execution_count": 10,
   "id": "79d30953",
   "metadata": {},
   "outputs": [],
   "source": [
    "db.commit()\n"
   ]
  },
  {
   "cell_type": "code",
   "execution_count": null,
   "id": "39303eb4",
   "metadata": {},
   "outputs": [],
   "source": [
    "Q5"
   ]
  },
  {
   "cell_type": "code",
   "execution_count": 11,
   "id": "4ef6f9c4",
   "metadata": {},
   "outputs": [
    {
     "name": "stdout",
     "output_type": "stream",
     "text": [
      "('Perdido Street Station',)\n",
      "('Small Gods',)\n",
      "('The Spellman Files',)\n",
      "('The Weirdstone of Brisingamen',)\n",
      "('Thud!',)\n"
     ]
    }
   ],
   "source": [
    "sql = 'select title from book order by title asc'\n",
    "for row in db.execute(sql):\n",
    "    print(row)"
   ]
  },
  {
   "cell_type": "code",
   "execution_count": 12,
   "id": "88d0dc5d",
   "metadata": {},
   "outputs": [
    {
     "name": "stdout",
     "output_type": "stream",
     "text": [
      "Perdido Street Station\n",
      "Small Gods\n",
      "The Spellman Files\n",
      "The Weirdstone of Brisingamen\n",
      "Thud!\n"
     ]
    }
   ],
   "source": [
    "for row in db.execute(sql):\n",
    "    print(row[0])"
   ]
  },
  {
   "cell_type": "code",
   "execution_count": null,
   "id": "b28ffac1",
   "metadata": {},
   "outputs": [],
   "source": [
    "Q6"
   ]
  },
  {
   "cell_type": "code",
   "execution_count": 13,
   "id": "1ccc71cb",
   "metadata": {},
   "outputs": [
    {
     "name": "stdout",
     "output_type": "stream",
     "text": [
      "Perdido Street Station\n",
      "Small Gods\n",
      "The Spellman Files\n",
      "The Weirdstone of Brisingamen\n",
      "Thud!\n"
     ]
    }
   ],
   "source": [
    "for row in db.execute(sql):\n",
    "    print(row[0])"
   ]
  },
  {
   "cell_type": "code",
   "execution_count": 14,
   "id": "cc454149",
   "metadata": {},
   "outputs": [
    {
     "name": "stdout",
     "output_type": "stream",
     "text": [
      "The Weirdstone of Brisingamen, Alan Garner, 1960\n",
      "Small Gods, Terry Pratchett, 1992\n",
      "Perdido Street Station, China Miéville, 2000\n",
      "Thud!, Terry Pratchett, 2005\n",
      "The Spellman Files, Lisa Lutz, 2007\n"
     ]
    }
   ],
   "source": [
    "for row in db.execute('select * from book order by year'):\n",
    "    print(*row, sep=', ')"
   ]
  },
  {
   "cell_type": "code",
   "execution_count": null,
   "id": "50fbf08f",
   "metadata": {},
   "outputs": [],
   "source": [
    "Q7"
   ]
  },
  {
   "cell_type": "code",
   "execution_count": 15,
   "id": "1e6ac2af",
   "metadata": {},
   "outputs": [
    {
     "name": "stdout",
     "output_type": "stream",
     "text": [
      "('Perdido Street Station',)\n",
      "('Small Gods',)\n",
      "('The Spellman Files',)\n",
      "('The Weirdstone of Brisingamen',)\n",
      "('Thud!',)\n"
     ]
    }
   ],
   "source": [
    "import sqlalchemy\n",
    "conn = sqlalchemy.create_engine('sqlite:///books.db')\n",
    "sql = 'select title from book order by title asc'\n",
    "rows = conn.execute(sql)\n",
    "for row in rows:\n",
    "    print(row)"
   ]
  },
  {
   "cell_type": "code",
   "execution_count": null,
   "id": "9e8c3d86",
   "metadata": {},
   "outputs": [],
   "source": [
    "Q8"
   ]
  },
  {
   "cell_type": "code",
   "execution_count": 16,
   "id": "394c031e",
   "metadata": {},
   "outputs": [
    {
     "ename": "ModuleNotFoundError",
     "evalue": "No module named 'redis'",
     "output_type": "error",
     "traceback": [
      "\u001b[1;31m---------------------------------------------------------------------------\u001b[0m",
      "\u001b[1;31mModuleNotFoundError\u001b[0m                       Traceback (most recent call last)",
      "\u001b[1;32m~\\AppData\\Local\\Temp\\ipykernel_34252\\4027342159.py\u001b[0m in \u001b[0;36m<module>\u001b[1;34m\u001b[0m\n\u001b[1;32m----> 1\u001b[1;33m \u001b[1;32mimport\u001b[0m \u001b[0mredis\u001b[0m\u001b[1;33m\u001b[0m\u001b[1;33m\u001b[0m\u001b[0m\n\u001b[0m\u001b[0;32m      2\u001b[0m \u001b[0mconn\u001b[0m \u001b[1;33m=\u001b[0m \u001b[0mredis\u001b[0m\u001b[1;33m.\u001b[0m\u001b[0mRedis\u001b[0m\u001b[1;33m(\u001b[0m\u001b[1;33m)\u001b[0m\u001b[1;33m\u001b[0m\u001b[1;33m\u001b[0m\u001b[0m\n\u001b[0;32m      3\u001b[0m \u001b[0mconn\u001b[0m\u001b[1;33m.\u001b[0m\u001b[0mdelete\u001b[0m\u001b[1;33m(\u001b[0m\u001b[1;34m'test'\u001b[0m\u001b[1;33m)\u001b[0m\u001b[1;33m\u001b[0m\u001b[1;33m\u001b[0m\u001b[0m\n",
      "\u001b[1;31mModuleNotFoundError\u001b[0m: No module named 'redis'"
     ]
    }
   ],
   "source": [
    "import redis\n",
    "conn = redis.Redis()\n",
    "conn.delete('test')"
   ]
  },
  {
   "cell_type": "code",
   "execution_count": null,
   "id": "78ecb47c",
   "metadata": {},
   "outputs": [],
   "source": [
    "Q9"
   ]
  },
  {
   "cell_type": "code",
   "execution_count": 17,
   "id": "5921307d",
   "metadata": {},
   "outputs": [
    {
     "ename": "AttributeError",
     "evalue": "'Engine' object has no attribute 'hmset'",
     "output_type": "error",
     "traceback": [
      "\u001b[1;31m---------------------------------------------------------------------------\u001b[0m",
      "\u001b[1;31mAttributeError\u001b[0m                            Traceback (most recent call last)",
      "\u001b[1;32m~\\AppData\\Local\\Temp\\ipykernel_34252\\1285209854.py\u001b[0m in \u001b[0;36m<module>\u001b[1;34m\u001b[0m\n\u001b[1;32m----> 1\u001b[1;33m \u001b[0mconn\u001b[0m\u001b[1;33m.\u001b[0m\u001b[0mhmset\u001b[0m\u001b[1;33m(\u001b[0m\u001b[1;34m'test'\u001b[0m\u001b[1;33m,\u001b[0m \u001b[1;33m{\u001b[0m\u001b[1;34m'count'\u001b[0m\u001b[1;33m:\u001b[0m \u001b[1;36m1\u001b[0m\u001b[1;33m,\u001b[0m \u001b[1;34m'name'\u001b[0m\u001b[1;33m:\u001b[0m \u001b[1;34m'Fester Bestertester'\u001b[0m\u001b[1;33m}\u001b[0m\u001b[1;33m)\u001b[0m\u001b[1;33m\u001b[0m\u001b[1;33m\u001b[0m\u001b[0m\n\u001b[0m",
      "\u001b[1;31mAttributeError\u001b[0m: 'Engine' object has no attribute 'hmset'"
     ]
    }
   ],
   "source": [
    "conn.hmset('test', {'count': 1, 'name': 'Fester Bestertester'})\n"
   ]
  },
  {
   "cell_type": "code",
   "execution_count": 18,
   "id": "a0f40ad4",
   "metadata": {},
   "outputs": [
    {
     "ename": "AttributeError",
     "evalue": "'Engine' object has no attribute 'hgetall'",
     "output_type": "error",
     "traceback": [
      "\u001b[1;31m---------------------------------------------------------------------------\u001b[0m",
      "\u001b[1;31mAttributeError\u001b[0m                            Traceback (most recent call last)",
      "\u001b[1;32m~\\AppData\\Local\\Temp\\ipykernel_34252\\3601077080.py\u001b[0m in \u001b[0;36m<module>\u001b[1;34m\u001b[0m\n\u001b[1;32m----> 1\u001b[1;33m \u001b[0mconn\u001b[0m\u001b[1;33m.\u001b[0m\u001b[0mhgetall\u001b[0m\u001b[1;33m(\u001b[0m\u001b[1;34m'test'\u001b[0m\u001b[1;33m)\u001b[0m\u001b[1;33m\u001b[0m\u001b[1;33m\u001b[0m\u001b[0m\n\u001b[0m",
      "\u001b[1;31mAttributeError\u001b[0m: 'Engine' object has no attribute 'hgetall'"
     ]
    }
   ],
   "source": [
    "conn.hgetall('test')\n"
   ]
  },
  {
   "cell_type": "code",
   "execution_count": null,
   "id": "8a9cbf14",
   "metadata": {},
   "outputs": [],
   "source": [
    "Q10"
   ]
  },
  {
   "cell_type": "code",
   "execution_count": 19,
   "id": "b4870ea3",
   "metadata": {},
   "outputs": [
    {
     "ename": "AttributeError",
     "evalue": "'Engine' object has no attribute 'hincrby'",
     "output_type": "error",
     "traceback": [
      "\u001b[1;31m---------------------------------------------------------------------------\u001b[0m",
      "\u001b[1;31mAttributeError\u001b[0m                            Traceback (most recent call last)",
      "\u001b[1;32m~\\AppData\\Local\\Temp\\ipykernel_34252\\2826454453.py\u001b[0m in \u001b[0;36m<module>\u001b[1;34m\u001b[0m\n\u001b[1;32m----> 1\u001b[1;33m \u001b[0mconn\u001b[0m\u001b[1;33m.\u001b[0m\u001b[0mhincrby\u001b[0m\u001b[1;33m(\u001b[0m\u001b[1;34m'test'\u001b[0m\u001b[1;33m,\u001b[0m \u001b[1;34m'count'\u001b[0m\u001b[1;33m,\u001b[0m \u001b[1;36m3\u001b[0m\u001b[1;33m)\u001b[0m\u001b[1;33m\u001b[0m\u001b[1;33m\u001b[0m\u001b[0m\n\u001b[0m",
      "\u001b[1;31mAttributeError\u001b[0m: 'Engine' object has no attribute 'hincrby'"
     ]
    }
   ],
   "source": [
    "conn.hincrby('test', 'count', 3)\n"
   ]
  },
  {
   "cell_type": "code",
   "execution_count": 20,
   "id": "1b8901fc",
   "metadata": {},
   "outputs": [
    {
     "ename": "AttributeError",
     "evalue": "'Engine' object has no attribute 'hget'",
     "output_type": "error",
     "traceback": [
      "\u001b[1;31m---------------------------------------------------------------------------\u001b[0m",
      "\u001b[1;31mAttributeError\u001b[0m                            Traceback (most recent call last)",
      "\u001b[1;32m~\\AppData\\Local\\Temp\\ipykernel_34252\\2323521298.py\u001b[0m in \u001b[0;36m<module>\u001b[1;34m\u001b[0m\n\u001b[1;32m----> 1\u001b[1;33m \u001b[0mconn\u001b[0m\u001b[1;33m.\u001b[0m\u001b[0mhget\u001b[0m\u001b[1;33m(\u001b[0m\u001b[1;34m'test'\u001b[0m\u001b[1;33m,\u001b[0m \u001b[1;34m'count'\u001b[0m\u001b[1;33m)\u001b[0m\u001b[1;33m\u001b[0m\u001b[1;33m\u001b[0m\u001b[0m\n\u001b[0m",
      "\u001b[1;31mAttributeError\u001b[0m: 'Engine' object has no attribute 'hget'"
     ]
    }
   ],
   "source": [
    "conn.hget('test', 'count')"
   ]
  },
  {
   "cell_type": "code",
   "execution_count": null,
   "id": "2821b1a1",
   "metadata": {},
   "outputs": [],
   "source": []
  }
 ],
 "metadata": {
  "kernelspec": {
   "display_name": "Python 3 (ipykernel)",
   "language": "python",
   "name": "python3"
  },
  "language_info": {
   "codemirror_mode": {
    "name": "ipython",
    "version": 3
   },
   "file_extension": ".py",
   "mimetype": "text/x-python",
   "name": "python",
   "nbconvert_exporter": "python",
   "pygments_lexer": "ipython3",
   "version": "3.9.13"
  }
 },
 "nbformat": 4,
 "nbformat_minor": 5
}
