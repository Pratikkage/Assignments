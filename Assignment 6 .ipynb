{
 "cells": [
  {
   "cell_type": "code",
   "execution_count": null,
   "id": "32826278",
   "metadata": {},
   "outputs": [],
   "source": [
    "Q1\n",
    "To insert characters that are illegal in a string, use an escape character. An escape character is a backslash \\ followed by the character you want to insert.\n",
    "\n",
    "Q2\n",
    "newline (\\n), tab (\\t)\n",
    "\n",
    "Q3\n",
    "( \"\" ), ( \\n ), ( \\t ) The \\ escape character will represent a backslash character.\n",
    "\n",
    "Q4\n",
    "The single quote in Howl's is fine because you've used double quotes to mark the beginning and end of the string.\n",
    "\n",
    "Q5\n",
    "using end = < character >\n",
    "\n",
    "Q6\n",
    "'e'\n",
    "\n",
    "'Hello'\n",
    "\n",
    "'Hello'\n",
    "\n",
    "'lo world!\n",
    "\n",
    "Q7\n",
    "'HELLO'\n",
    "\n",
    "True\n",
    "\n",
    "'hello'\n",
    "\n",
    "Q8\n",
    "['Remember,', 'remember,', 'the', 'fifth', 'of', 'November.']\n",
    "\n",
    "'There-can-be-only-one.\n",
    "\n",
    "Q9\n",
    "The rjust(), ljust(), and center() string methods, respectively\n",
    "\n",
    "Q10\n",
    "The lstrip() and rstrip() methods remove whitespace from the left and right ends of a string, respectively."
   ]
  }
 ],
 "metadata": {
  "kernelspec": {
   "display_name": "Python 3 (ipykernel)",
   "language": "python",
   "name": "python3"
  },
  "language_info": {
   "codemirror_mode": {
    "name": "ipython",
    "version": 3
   },
   "file_extension": ".py",
   "mimetype": "text/x-python",
   "name": "python",
   "nbconvert_exporter": "python",
   "pygments_lexer": "ipython3",
   "version": "3.9.13"
  }
 },
 "nbformat": 4,
 "nbformat_minor": 5
}
