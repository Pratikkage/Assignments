{
 "cells": [
  {
   "cell_type": "code",
   "execution_count": null,
   "id": "860133e4",
   "metadata": {},
   "outputs": [],
   "source": [
    "\n",
    "Q1\n",
    "The main difference between getattr and getattribute is that if the attribute was not found by the usual way then getattr is\n",
    "used. Whereas the getattribute is used before looking at the actual attributes on the object.\n",
    "\n",
    "Q2\n",
    "descriptors are a low-level mechanism that lets you hook into an object's attributes being accessed. Properties are a high-level\n",
    "application of this; that is, properties are implemented using descriptors\n",
    "\n",
    "Q3\n",
    "A key difference between getattr and getattribute is that getattr is only invoked if the attribute wasn't found the usual ways.\n",
    "It's good for implementing a fallback for missing attributes, and is probably the one of two you want.\n",
    "\n",
    " "
   ]
  }
 ],
 "metadata": {
  "kernelspec": {
   "display_name": "Python 3 (ipykernel)",
   "language": "python",
   "name": "python3"
  },
  "language_info": {
   "codemirror_mode": {
    "name": "ipython",
    "version": 3
   },
   "file_extension": ".py",
   "mimetype": "text/x-python",
   "name": "python",
   "nbconvert_exporter": "python",
   "pygments_lexer": "ipython3",
   "version": "3.9.13"
  }
 },
 "nbformat": 4,
 "nbformat_minor": 5
}
