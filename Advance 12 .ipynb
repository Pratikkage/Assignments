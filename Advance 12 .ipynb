{
 "cells": [
  {
   "cell_type": "code",
   "execution_count": null,
   "id": "7e1842cf",
   "metadata": {},
   "outputs": [],
   "source": [
    "\n",
    "Q1\n",
    "String’s indexed character cannot to be assigned a New value , as Strings are immutable.\n",
    "\n",
    "Q2\n",
    "+= operator is used to concatenate strings, it does not violate Python’s string immutability Property. Because doing so new \n",
    "creates a new association with data and variable. E.g. str_1=\"a\" and str_1+=\"b. effect of this statements to create string ab\n",
    "and reassign it to variable str_1, any string data is not actually modified.\n",
    "\n",
    "Q3\n",
    "A Character in string can be indexed using string name followed by index number of character in square bracket. Positive\n",
    "Indexing i.e. first index is 0 an so on, or Negative Indexing i.e. last letter is -1 and so on can be used to index a character\n",
    "\n",
    "Q4\n",
    "Q5\n",
    "Indexed characters and sliced substrings have datatype String.\n",
    "\n",
    "Q6\n",
    "Object that contains sequence of character datatypes are called String.\n",
    "\n",
    "Q7\n",
    "+, += and * allow to combine one or more smaller strings to create a larger string. .join() method joins element of iterable \n",
    "type like list and tuple to get a combined string.\n",
    "\n",
    "Q8\n",
    "Checking the target string with in or not Operators before using the index method to find a substring just helps confirming \n",
    "availability of substring and thus avoid raising of ValueError.\n",
    "\n",
    "Q9\n",
    "The String Operators and built-in methods to Produce Simple Boolean (True/False) Results are:\n",
    "\n",
    "in\n",
    "\n",
    "not\n",
    "\n",
    ".isalpha()\n",
    "\n",
    ".isalnum()\n",
    "\n",
    ".isdecimal()\n",
    "\n",
    ".isdigit()\n",
    "\n",
    " "
   ]
  }
 ],
 "metadata": {
  "kernelspec": {
   "display_name": "Python 3 (ipykernel)",
   "language": "python",
   "name": "python3"
  },
  "language_info": {
   "codemirror_mode": {
    "name": "ipython",
    "version": 3
   },
   "file_extension": ".py",
   "mimetype": "text/x-python",
   "name": "python",
   "nbconvert_exporter": "python",
   "pygments_lexer": "ipython3",
   "version": "3.9.13"
  }
 },
 "nbformat": 4,
 "nbformat_minor": 5
}
