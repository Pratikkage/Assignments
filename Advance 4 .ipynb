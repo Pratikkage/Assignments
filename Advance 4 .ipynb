{
 "cells": [
  {
   "cell_type": "code",
   "execution_count": null,
   "id": "802eb20b",
   "metadata": {},
   "outputs": [],
   "source": [
    "Q1\n",
    "iter and next are the operator overloading methods in python that support iteration and are collectively called iterator \n",
    "protocol.\n",
    "\n",
    "iter returns the iterator object and is called at the start of loop in our respective class.\n",
    "\n",
    "next is called at each loop increment, it returns the incremented value. Also Stopiteration is raised when there is no value \n",
    "to return.\n",
    "\n",
    "Q2\n",
    "str and repr are two operator overloading methods that manage printing.\n",
    "\n",
    "In Short, the difference between both these operators is the goal of repr is to be unambiguous and str is to be readable.\n",
    "\n",
    "Whenever we are printing any object reference internally str method will be called by default.\n",
    "\n",
    "The main purpose of str is for readability. it prints the informal string representation of an object, one that is useful for\n",
    "printing the object. it may not be possible to convert result string to original object.\n",
    "\n",
    "repr is used to print official string representation of an object, so it includes all information and development.\n",
    "\n",
    "Q3\n",
    "In a class use of slice() in getitem method is used for intercept slice operation. This slice method is provided with start \n",
    "integer number, stop integer number and step integer number.\n",
    "\n",
    "Q4\n",
    "a+b is normal addition. Whereas a+=b is inplace addition operation. In this in-place addition a itself will store the value of\n",
    "addition. In a class iadd method is used for this in-place operation\n",
    "\n",
    "Q5\n",
    "Operator overloading is used when we want to use an operator other than its normal operation to have different meaning\n",
    "according to the context required in user defined function.\n",
    "\n"
   ]
  }
 ],
 "metadata": {
  "kernelspec": {
   "display_name": "Python 3 (ipykernel)",
   "language": "python",
   "name": "python3"
  },
  "language_info": {
   "codemirror_mode": {
    "name": "ipython",
    "version": 3
   },
   "file_extension": ".py",
   "mimetype": "text/x-python",
   "name": "python",
   "nbconvert_exporter": "python",
   "pygments_lexer": "ipython3",
   "version": "3.9.13"
  }
 },
 "nbformat": 4,
 "nbformat_minor": 5
}
