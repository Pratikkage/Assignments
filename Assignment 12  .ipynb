{
 "cells": [
  {
   "cell_type": "code",
   "execution_count": null,
   "id": "e39fce8f",
   "metadata": {},
   "outputs": [],
   "source": [
    "\n",
    "Q1\n",
    "binary mode\n",
    "\n",
    "Q2\n",
    "Calling getPage(4)Calling getPage(4)\n",
    "\n",
    "Q3\n",
    "numPages\n",
    "\n",
    "Q4\n",
    "decrypted by calling .decrypt('swordfish')\n",
    "\n",
    "Q5\n",
    "using function rotateClockwise()\n",
    "\n",
    "Q6\n",
    "Paragraph Object : A document contains multiple paragraphs. A paragraph begins on a new line and contains multiple runs. The Document object contains a list of Paragraph objects for the paragraphs in the document. (A new paragraph begins whenever the user presses ENTER or RETURN while typing in a Word document.)\n",
    "\n",
    "Run Objects : Runs are contiguous groups of characters within a paragraph with the same style\n",
    "\n",
    "Q7\n",
    "using\n",
    "\n",
    "doc = docx.Document('abc.docx')\n",
    "\n",
    "doc.paragraphs\n",
    "\n",
    "Q8\n",
    "Run object\n",
    "\n",
    "Q9\n",
    "True and False are specific bool values. Use default False when you have a bool field and you want the default to be False. Don't use False as a value for a non- bool field. None is used as a generic placeholder when the value will be set later.\n",
    "\n",
    "Q10\n",
    "import aspose.words as aw doc = aw.Document() builder = aw.DocumentBuilder(doc) builder.write(\"Hello world!\") doc.save(\"out.docx\")\n",
    "\n",
    "Q11\n",
    "using function add_paragraph('Hello there!')\n",
    "\n",
    "Q12\n",
    "1 to 4"
   ]
  }
 ],
 "metadata": {
  "kernelspec": {
   "display_name": "Python 3 (ipykernel)",
   "language": "python",
   "name": "python3"
  },
  "language_info": {
   "codemirror_mode": {
    "name": "ipython",
    "version": 3
   },
   "file_extension": ".py",
   "mimetype": "text/x-python",
   "name": "python",
   "nbconvert_exporter": "python",
   "pygments_lexer": "ipython3",
   "version": "3.9.13"
  }
 },
 "nbformat": 4,
 "nbformat_minor": 5
}
