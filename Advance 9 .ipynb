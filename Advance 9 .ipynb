{
 "cells": [
  {
   "cell_type": "code",
   "execution_count": null,
   "id": "dda7bb30",
   "metadata": {},
   "outputs": [],
   "source": [
    "\n",
    "Q1\n",
    "The following are the names and functions of string object types in Python 3.X .isdecimal() -> Returns True if all characters \n",
    "in a string are decimal.\n",
    "\n",
    ".isalnum() -> Returns True if all characters in the string are AlphaNumeric.\n",
    "\n",
    ".istitle() -> Returns True if first character in a string is in Uppercase.\n",
    "\n",
    ".partition(<sub_string>) -> Splits string at first occurance of sub string and returns a tuple of 3 elements.\n",
    "\n",
    ".rpartition(<sub_string>) -> Splits string at last occurance of sub string and returns a tuple of 3 elements.\n",
    "\n",
    ".isidentifier() -> Returns True if give string is a valid identifier name. len() -> Returns the length of the given string.\n",
    "\n",
    "Q2\n",
    "In Python3 default format of strings is Unicode Whereas in Pyton2 we need to explicitly mention Unicode value using u.\n",
    "\n",
    "Q3\n",
    "In Python 3.x unidecode() method from unidecode library can be used to put non-ASCII Unicode Characters in a string.\n",
    "\n",
    "Q4\n",
    "There are mainly two types of data files — text file and binary file. A text file consists of human readable characters, \n",
    "which can be opened by any text editor. On the other hand, binary files are made up of non-human readable characters and \n",
    "symbols, which require specific programs to access its contents.\n",
    "\n",
    "Q5\n",
    "Use of encode() and decode() method can be used to you interpret a Unicode text file containing text encoded in a different\n",
    "encoding than your platform's default, by default encoding parameter is UTF-8\n",
    "\n",
    "Q6\n",
    "Use str.encode() and file.write() to make a Unicode text file in a particular encoding format, default encoding format \n",
    "is UTF-18.\n",
    "\n",
    "Call str.encode(encoding) with encoding set to utf8 to encode str.\n",
    "\n",
    "Call open(file, mode) to open a file with mode set to wb . wb writes to files in binary mode & preserves UTF-8format.\n",
    "\n",
    "Call file.write(data) to write data to the file.\n",
    "\n",
    "Q7\n",
    "Unicode represents most written languages in the world. ASCII has its equivalent in Unicode. The difference between ASCII \n",
    "and Unicode is that ASCII represents lowercase letters (a-z), uppercase letters (A-Z), digits (0–9) and symbols such as \n",
    "punctuation marks while Unicode represents letters of English, Arabic, Greek etc. mathematical symbols, historical scripts,\n",
    "emoji covering a wide range of characters than ASCII.\n",
    "\n",
    "Q8\n",
    "Python 3 stores strings as Unicode by default whereas Python 2 requires you to mark a string with a u if you want to store\n",
    "it as Unicode. Unicode strings are more versatile than ASCII strings, which are the Python 3.X default, as they can store\n",
    "letters from foreign languages as well as emoji and the standard Roman letters and numerals.\n",
    "\n",
    " "
   ]
  }
 ],
 "metadata": {
  "kernelspec": {
   "display_name": "Python 3 (ipykernel)",
   "language": "python",
   "name": "python3"
  },
  "language_info": {
   "codemirror_mode": {
    "name": "ipython",
    "version": 3
   },
   "file_extension": ".py",
   "mimetype": "text/x-python",
   "name": "python",
   "nbconvert_exporter": "python",
   "pygments_lexer": "ipython3",
   "version": "3.9.13"
  }
 },
 "nbformat": 4,
 "nbformat_minor": 5
}
